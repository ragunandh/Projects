{
 "cells": [
  {
   "cell_type": "code",
   "execution_count": null,
   "id": "53a04f7a-8575-40a0-a6f1-f7fe952c5123",
   "metadata": {},
   "outputs": [],
   "source": [
    "!pip install PyPDF2\n",
    "import PyPDF2\n",
    "\n",
    "def extract_text_from_pdfs(pdf_files, output_file):\n",
    "    extracted_data = {}\n",
    "\n",
    "    for pdf_path in pdf_files:\n",
    "        try:\n",
    "            with open(pdf_path, \"rb\") as file:\n",
    "                reader = PyPDF2.PdfReader(file)\n",
    "                text = \"\"\n",
    "                for page_num in range(len(reader.pages)):\n",
    "                    page = reader.pages[page_num]\n",
    "                    text += page.extract_text() or \"\"  # Handle NoneType\n",
    "\n",
    "                extracted_data[pdf_path] = text  # Store extracted text\n",
    "        except Exception as e:\n",
    "            print(f\"Error reading {pdf_path}: {e}\")\n",
    "\n",
    "    # Save extracted text into a text file\n",
    "    with open(output_file, \"w\", encoding=\"utf-8\") as out_file:\n",
    "        for pdf_name, pdf_text in extracted_data.items():\n",
    "            out_file.write(f\"File: {pdf_name}\\n\")\n",
    "            out_file.write(pdf_text)\n",
    "            out_file.write(\"\\n\" + \"=\"*80 + \"\\n\")  # Separator\n",
    "\n",
    "    print(f\"Extraction complete. Text saved in {output_file}\")\n",
    "\n",
    "# Example usage: Provide specific PDF file paths\n",
    "pdf_files = [\n",
    "    r\"E:\\insurance1.pdf\",\n",
    "    r\"E:\\insurance2.pdf\",\n",
    "    r\"E:\\insurance3.pdf\",\n",
    "    r\"E:\\insurance4.pdf\",\n",
    "    r\"E:\\insurance5.pdf\"\n",
    "]\n",
    "\n",
    "output_file = r\"E:\\extracted_text.txt\"\n",
    "extract_text_from_pdfs(pdf_files, output_file)\n"
   ]
  }
 ],
 "metadata": {
  "kernelspec": {
   "display_name": "Python 3 (ipykernel)",
   "language": "python",
   "name": "python3"
  },
  "language_info": {
   "codemirror_mode": {
    "name": "ipython",
    "version": 3
   },
   "file_extension": ".py",
   "mimetype": "text/x-python",
   "name": "python",
   "nbconvert_exporter": "python",
   "pygments_lexer": "ipython3",
   "version": "3.13.2"
  }
 },
 "nbformat": 4,
 "nbformat_minor": 5
}
